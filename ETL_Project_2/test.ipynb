{
 "cells": [
  {
   "cell_type": "code",
   "execution_count": 1,
   "metadata": {},
   "outputs": [
    {
     "name": "stderr",
     "output_type": "stream",
     "text": [
      "c:\\Users\\olasm\\Desktop\\FSD - July 2023\\week 7\\W7_ETL_Project\\ETL_Project_2\\database_handler.py:48: UserWarning: pandas only supports SQLAlchemy connectable (engine/connection) or database string URI or sqlite3 DBAPI2 connection. Other DBAPI2 objects are not tested. Please consider using SQLAlchemy.\n",
      "  return_dataframe = pd.read_sql_query(con= db_session, sql= file_executor)\n",
      "c:\\Users\\olasm\\Desktop\\FSD - July 2023\\week 7\\W7_ETL_Project\\ETL_Project_2\\database_handler.py:48: UserWarning: pandas only supports SQLAlchemy connectable (engine/connection) or database string URI or sqlite3 DBAPI2 connection. Other DBAPI2 objects are not tested. Please consider using SQLAlchemy.\n",
      "  return_dataframe = pd.read_sql_query(con= db_session, sql= file_executor)\n",
      "c:\\Users\\olasm\\Desktop\\FSD - July 2023\\week 7\\W7_ETL_Project\\ETL_Project_2\\database_handler.py:48: UserWarning: pandas only supports SQLAlchemy connectable (engine/connection) or database string URI or sqlite3 DBAPI2 connection. Other DBAPI2 objects are not tested. Please consider using SQLAlchemy.\n",
      "  return_dataframe = pd.read_sql_query(con= db_session, sql= file_executor)\n",
      "c:\\Users\\olasm\\Desktop\\FSD - July 2023\\week 7\\W7_ETL_Project\\ETL_Project_2\\database_handler.py:48: UserWarning: pandas only supports SQLAlchemy connectable (engine/connection) or database string URI or sqlite3 DBAPI2 connection. Other DBAPI2 objects are not tested. Please consider using SQLAlchemy.\n",
      "  return_dataframe = pd.read_sql_query(con= db_session, sql= file_executor)\n",
      "c:\\Users\\olasm\\Desktop\\FSD - July 2023\\week 7\\W7_ETL_Project\\ETL_Project_2\\database_handler.py:48: UserWarning: pandas only supports SQLAlchemy connectable (engine/connection) or database string URI or sqlite3 DBAPI2 connection. Other DBAPI2 objects are not tested. Please consider using SQLAlchemy.\n",
      "  return_dataframe = pd.read_sql_query(con= db_session, sql= file_executor)\n",
      "c:\\Users\\olasm\\Desktop\\FSD - July 2023\\week 7\\W7_ETL_Project\\ETL_Project_2\\database_handler.py:48: UserWarning: pandas only supports SQLAlchemy connectable (engine/connection) or database string URI or sqlite3 DBAPI2 connection. Other DBAPI2 objects are not tested. Please consider using SQLAlchemy.\n",
      "  return_dataframe = pd.read_sql_query(con= db_session, sql= file_executor)\n",
      "c:\\Users\\olasm\\Desktop\\FSD - July 2023\\week 7\\W7_ETL_Project\\ETL_Project_2\\database_handler.py:48: UserWarning: pandas only supports SQLAlchemy connectable (engine/connection) or database string URI or sqlite3 DBAPI2 connection. Other DBAPI2 objects are not tested. Please consider using SQLAlchemy.\n",
      "  return_dataframe = pd.read_sql_query(con= db_session, sql= file_executor)\n",
      "c:\\Users\\olasm\\Desktop\\FSD - July 2023\\week 7\\W7_ETL_Project\\ETL_Project_2\\database_handler.py:48: UserWarning: pandas only supports SQLAlchemy connectable (engine/connection) or database string URI or sqlite3 DBAPI2 connection. Other DBAPI2 objects are not tested. Please consider using SQLAlchemy.\n",
      "  return_dataframe = pd.read_sql_query(con= db_session, sql= file_executor)\n"
     ]
    }
   ],
   "source": [
    "from database_handler import create_connection,return_data_as_df\n",
    "from hook import execute_sql_folder_hook, read_source_df_insert_dest\n",
    "from lookups import SourceName, DestinationName, InputTypes\n",
    "from prehook import create_sql_staging_tables\n",
    "import datetime\n",
    "\n",
    "db_session = create_connection()\n",
    "create_sql_staging_tables(db_session,SourceName.DVD_RENTAL)\n",
    "read_source_df_insert_dest(db_session, SourceName.DVD_RENTAL,datetime.datetime(1900,1,1))\n",
    "execute_sql_folder_hook(db_session,'./SQL_Commands/',DestinationName.Datawarehouse)\n"
   ]
  },
  {
   "cell_type": "code",
   "execution_count": null,
   "metadata": {},
   "outputs": [],
   "source": [
    "\n",
    "\n"
   ]
  }
 ],
 "metadata": {
  "kernelspec": {
   "display_name": "etl_env",
   "language": "python",
   "name": "python3"
  },
  "language_info": {
   "codemirror_mode": {
    "name": "ipython",
    "version": 3
   },
   "file_extension": ".py",
   "mimetype": "text/x-python",
   "name": "python",
   "nbconvert_exporter": "python",
   "pygments_lexer": "ipython3",
   "version": "3.10.12"
  },
  "orig_nbformat": 4
 },
 "nbformat": 4,
 "nbformat_minor": 2
}
